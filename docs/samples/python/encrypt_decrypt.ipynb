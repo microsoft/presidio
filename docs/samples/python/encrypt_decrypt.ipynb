{
 "cells": [
  {
   "cell_type": "markdown",
   "id": "gothic-trademark",
   "metadata": {},
   "source": [
    "# Encrypting and Decrypting identified entities\n",
    "\n",
    "This sample shows how to use Presidio Anonymizer built-in functionality, to encrypt and decrypt identified entities.\n",
    "The encryption is using AES cypher in CBC mode and requires a cryptographic key as an input for both the encryption and the decryption.\n"
   ]
  },
  {
   "cell_type": "markdown",
   "id": "roman-allergy",
   "metadata": {},
   "source": [
    "### Set up imports"
   ]
  },
  {
   "cell_type": "code",
   "execution_count": 8,
   "id": "extensive-greensboro",
   "metadata": {},
   "outputs": [],
   "source": [
    "from presidio_anonymizer import AnonymizerEngine, DeanonymizeEngine\n",
    "from presidio_anonymizer.entities import RecognizerResult, AnonymizerResult, OperatorConfig"
   ]
  },
  {
   "cell_type": "markdown",
   "source": [
    "### Define a cryptographic key (for both encryption and decryption)"
   ],
   "metadata": {
    "collapsed": false
   }
  },
  {
   "cell_type": "code",
   "execution_count": null,
   "outputs": [],
   "source": [
    "crypto_key = \"WmZq4t7w!z%C&F)J\""
   ],
   "metadata": {
    "collapsed": false,
    "pycharm": {
     "name": "#%%\n"
    }
   }
  },
  {
   "cell_type": "markdown",
   "id": "metropolitan-atlantic",
   "metadata": {},
   "source": [
    "### Presidio Anonymizer: Encrypt"
   ]
  },
  {
   "cell_type": "code",
   "execution_count": 9,
   "id": "medium-ridge",
   "metadata": {},
   "outputs": [
    {
     "name": "stdout",
     "output_type": "stream",
     "text": [
      "text: My name is EVF14oCMMeTHXq9Ntnr6DDMqcwFWb8/I+G1cC2XJwBk=.\n",
      "items:\n",
      "[\n",
      "    {'start': 11, 'end': 55, 'entity_type': 'PERSON', 'text': 'EVF14oCMMeTHXq9Ntnr6DDMqcwFWb8/I+G1cC2XJwBk=', 'operator': 'encrypt'}\n",
      "]\n",
      "\n"
     ]
    }
   ],
   "source": [
    "engine = AnonymizerEngine()\n",
    "\n",
    "# Invoke the anonymize function with the text,\n",
    "# analyzer results (potentially coming from presidio-analyzer)\n",
    "# and an 'encrypt' operator to get an encrypted anonymization output:\n",
    "result = engine.anonymize(\n",
    "    text=\"My name is James Bond\",\n",
    "    analyzer_results=[\n",
    "        RecognizerResult(entity_type=\"PERSON\", start=11, end=21, score=0.8),\n",
    "    ],\n",
    "    operators={\"PERSON\": OperatorConfig(\"encrypt\", {\"key\": crypto_key})},\n",
    ")\n",
    "\n",
    "print(result)"
   ]
  },
  {
   "cell_type": "code",
   "execution_count": null,
   "outputs": [],
   "source": [
    "# Fetch the anonymized text from the result\n",
    "anonymized_text = result.text"
   ],
   "metadata": {
    "collapsed": false,
    "pycharm": {
     "name": "#%%\n"
    }
   }
  },
  {
   "cell_type": "markdown",
   "id": "obvious-fifty",
   "metadata": {},
   "source": [
    "### Presidio Anonymizer: Decrypt"
   ]
  },
  {
   "cell_type": "code",
   "execution_count": 6,
   "id": "outstanding-celebration",
   "metadata": {
    "pycharm": {
     "name": "#%%\n"
    }
   },
   "outputs": [
    {
     "name": "stdout",
     "output_type": "stream",
     "text": [
      "text: My name is James Bond.\n",
      "items:\n",
      "[\n",
      "    {'start': 11, 'end': 21, 'entity_type': 'PERSON', 'text': 'James Bond', 'operator': 'decrypt'}\n",
      "]\n",
      "\n"
     ]
    }
   ],
   "source": [
    "# Initialize the engine:\n",
    "engine = DeanonymizeEngine()\n",
    "\n",
    "# Invoke the deanonymize function with the text, anonymizer results\n",
    "# and a 'decrypt' operator to get the original text as output.\n",
    "result = engine.deanonymize(\n",
    "    text=anonymized_text,\n",
    "    entities=[\n",
    "        AnonymizerResult(start=11, end=55, entity_type=\"PERSON\"),\n",
    "    ],\n",
    "    operators={\"DEFAULT\": OperatorConfig(\"decrypt\", {\"key\": crypto_key})},\n",
    ")\n",
    "\n",
    "print(result)"
   ]
  }
 ],
 "metadata": {
  "kernelspec": {
   "display_name": "Python 3 (ipykernel)",
   "language": "python",
   "name": "python3"
  },
  "language_info": {
   "codemirror_mode": {
    "name": "ipython",
    "version": 3
   },
   "file_extension": ".py",
   "mimetype": "text/x-python",
   "name": "python",
   "nbconvert_exporter": "python",
   "pygments_lexer": "ipython3",
   "version": "3.7.10"
  }
 },
 "nbformat": 4,
 "nbformat_minor": 5
}