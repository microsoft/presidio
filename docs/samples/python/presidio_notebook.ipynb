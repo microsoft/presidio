{
 "metadata": {
  "language_info": {
   "codemirror_mode": {
    "name": "ipython",
    "version": 3
   },
   "file_extension": ".py",
   "mimetype": "text/x-python",
   "name": "python",
   "nbconvert_exporter": "python",
   "pygments_lexer": "ipython3",
   "version": "3.8.7-final"
  },
  "orig_nbformat": 2,
  "kernelspec": {
   "name": "python3",
   "display_name": "Python 3",
   "language": "python"
  }
 },
 "nbformat": 4,
 "nbformat_minor": 2,
 "cells": [
  {
   "cell_type": "code",
   "execution_count": 65,
   "metadata": {},
   "outputs": [],
   "source": [
    "# sentance to analyze and anonymize\n",
    "text = \"His name is Mr. Jones and his phone number is 212-555-5555\""
   ]
  },
  {
   "cell_type": "code",
   "execution_count": 66,
   "metadata": {},
   "outputs": [
    {
     "output_type": "stream",
     "name": "stdout",
     "text": [
      "[type: PHONE_NUMBER, start: 46, end: 58, score: 0.85]\n"
     ]
    }
   ],
   "source": [
    "from presidio_analyzer import AnalyzerEngine\n",
    "\n",
    "# Set up the Analyzer engine, load the NLP module (spaCy model by default) and other PII recognizers\n",
    "analyzer = AnalyzerEngine()\n",
    "\n",
    "# Call analyzer to get results \n",
    "analyzer_results = analyzer.analyze(text=text, entities=[\"PHONE_NUMBER\"], language='en')\n",
    "\n",
    "print(analyzer_results)"
   ]
  },
  {
   "cell_type": "code",
   "execution_count": 67,
   "metadata": {},
   "outputs": [
    {
     "output_type": "stream",
     "name": "stdout",
     "text": [
      "[type: PRONOUN, start: 0, end: 3, score: 1.0, type: TITLE, start: 12, end: 15, score: 1.0, type: PRONOUN, start: 26, end: 29, score: 1.0]\n"
     ]
    }
   ],
   "source": [
    "from presidio_analyzer import PatternRecognizer\n",
    "\n",
    "# Create custom recognizers\n",
    "titles_recognizer = PatternRecognizer(supported_entity=\"TITLE\",\n",
    "                                      deny_list=[\"Mr.\",\"Mrs.\",\"Miss\"])\n",
    "\n",
    "pronoun_recognizer = PatternRecognizer(supported_entity=\"PRONOUN\",\n",
    "                                      deny_list=[\"he\", \"He\", \"his\", \"His\", \"she\", \"She\", \"hers\" \"Hers\"])\n",
    "\n",
    "# Add the new custom recognizers to the analyzer and call the analyzer \n",
    "analyzer.registry.add_recognizer(titles_recognizer)\n",
    "analyzer.registry.add_recognizer(pronoun_recognizer)\n",
    "\n",
    "# # Call analyzer to get results for the new recognizers\n",
    "analyzer_results = analyzer.analyze(text=text,\n",
    "                            entities=[\"TITLE\", \"PRONOUN\"],\n",
    "                            language=\"en\")\n",
    "print(analyzer_results)\n"
   ]
  },
  {
   "cell_type": "code",
   "execution_count": 68,
   "metadata": {},
   "outputs": [
    {
     "output_type": "stream",
     "name": "stdout",
     "text": [
      "[type: PRONOUN, start: 0, end: 3, score: 1.0, type: TITLE, start: 12, end: 15, score: 1.0, type: PRONOUN, start: 26, end: 29, score: 1.0, type: PERSON, start: 16, end: 21, score: 0.85, type: PHONE_NUMBER, start: 46, end: 58, score: 0.85]\n"
     ]
    }
   ],
   "source": [
    "# Call analyzer to get results with the default and new recognizers\n",
    "analyzer_results = analyzer.analyze(text=text, language='en')\n",
    "\n",
    "print(analyzer_results)"
   ]
  },
  {
   "cell_type": "code",
   "execution_count": 69,
   "metadata": {},
   "outputs": [
    {
     "output_type": "stream",
     "name": "stdout",
     "text": [
      "[{'start': 0, 'end': 3, 'score': 1.0, 'entity_type': 'PRONOUN'}, {'start': 12, 'end': 15, 'score': 1.0, 'entity_type': 'TITLE'}, {'start': 26, 'end': 29, 'score': 1.0, 'entity_type': 'PRONOUN'}, {'start': 16, 'end': 21, 'score': 0.85, 'entity_type': 'PERSON'}, {'start': 46, 'end': 58, 'score': 0.85, 'entity_type': 'PHONE_NUMBER'}]\n"
     ]
    }
   ],
   "source": [
    "# Convert analyzer results to anonymizer input - a list of dict\n",
    "converted_analyzer_results = [{\"start\": analyzer_results[i].start, \"end\": analyzer_results[i].end, \"score\": analyzer_results[i].score, \"entity_type\": analyzer_results[i].entity_type}          for i in range(len(analyzer_results))]\n",
    "\n",
    "print(converted_analyzer_results)\n"
   ]
  },
  {
   "cell_type": "code",
   "execution_count": 70,
   "metadata": {},
   "outputs": [
    {
     "output_type": "stream",
     "name": "stdout",
     "text": [
      "<ANONYMIZED> name is  <ANONYMIZED> and <ANONYMIZED> phone number is ************\n"
     ]
    }
   ],
   "source": [
    "from presidio_anonymizer import AnonymizerEngine\n",
    "from presidio_anonymizer.entities import AnonymizerRequest\n",
    "\n",
    "# setup the anonymizer engine \n",
    "anonymizer = AnonymizerEngine()\n",
    "\n",
    "# create a dict with the text to anonymize, list of transformations to apply on the text and the results from the analyzer request\n",
    "request = {\n",
    "        \"text\": text,\n",
    "        \"transformations\": {\n",
    "            \"DEFAULT\": {\"type\": \"replace\", \"new_value\": \"<ANONYMIZED>\"},\n",
    "             \"PHONE_NUMBER\": {\n",
    "                \"type\": \"mask\",\n",
    "                \"masking_char\": \"*\",\n",
    "                \"chars_to_mask\": 12,\n",
    "                \"from_end\": True,\n",
    "            },\n",
    "            \"TITLE\": {\n",
    "                \"type\": \"redact\"\n",
    "            }\n",
    "        },\n",
    "        \"analyzer_results\": converted_analyzer_results\n",
    "    }\n",
    "\n",
    "# create an anonymizer request\n",
    "data = AnonymizerRequest(request, AnonymizerEngine().builtin_anonymizers)\n",
    "\n",
    "# anonymize the text\n",
    "anonymized_results = anonymizer.anonymize(data)\n",
    "\n",
    "print(anonymized_results)"
   ]
  },
  {
   "cell_type": "code",
   "execution_count": null,
   "metadata": {},
   "outputs": [],
   "source": []
  }
 ]
}